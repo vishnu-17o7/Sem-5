{
 "cells": [
  {
   "cell_type": "code",
   "execution_count": 15,
   "metadata": {},
   "outputs": [],
   "source": [
    "import numpy as np\n",
    "from sklearn.datasets import make_classification\n",
    "from sklearn.model_selection import train_test_split\n",
    "from sklearn.preprocessing import StandardScaler\n",
    "from sklearn.cluster import KMeans"
   ]
  },
  {
   "cell_type": "markdown",
   "metadata": {},
   "source": [
    "n_centers: Number of RBF neurons in the hidden layer (i.e., the number of centers).\\\n",
    "sigma: The spread or width of the Gaussian function, which can be set manually or calculated automatically.\\\n",
    "centers: The RBF centers, which will be selected from the input data.\\\n",
    "weights: The weights connecting the RBF layer to the output."
   ]
  },
  {
   "cell_type": "code",
   "execution_count": 16,
   "metadata": {},
   "outputs": [],
   "source": [
    "class RBFNetwork:\n",
    "    def __init__(self, n_centers, sigma=None):\n",
    "        self.n_centers = n_centers\n",
    "        self.centers = None\n",
    "        self.sigma = sigma\n",
    "        self.weights = None\n",
    "        self.bias = None\n",
    "\n",
    "    def _gaussian(self, x, c, s):\n",
    "        return np.exp(-1 / (2 * s**2) * np.linalg.norm(x - c)**2)\n",
    "\n",
    "    def _select_centers(self, X):\n",
    "        kmeans = KMeans(n_clusters=self.n_centers, random_state=42)\n",
    "        kmeans.fit(X)\n",
    "        self.centers = kmeans.cluster_centers_\n",
    "\n",
    "    def _calculate_sigma(self):\n",
    "        if self.sigma is None:\n",
    "            distances = np.linalg.norm(self.centers[:, np.newaxis] - self.centers, axis=2)\n",
    "            self.sigma = np.mean(distances)\n",
    "\n",
    "    def fit(self, X, y):\n",
    "        self._select_centers(X)\n",
    "        self._calculate_sigma()\n",
    "\n",
    "        G = np.zeros((X.shape[0], self.n_centers))\n",
    "        for i in range(X.shape[0]):\n",
    "            for j in range(self.n_centers):\n",
    "                G[i, j] = self._gaussian(X[i], self.centers[j], self.sigma)\n",
    "\n",
    "        G = np.hstack([G, np.ones((G.shape[0], 1))])\n",
    "        self.weights = np.linalg.pinv(G).dot(y)\n",
    "\n",
    "    def predict(self, X):\n",
    "        G = np.zeros((X.shape[0], self.n_centers))\n",
    "        for i in range(X.shape[0]):\n",
    "            for j in range(self.n_centers):\n",
    "                G[i, j] = self._gaussian(X[i], self.centers[j], self.sigma)\n",
    "\n",
    "        G = np.hstack([G, np.ones((G.shape[0], 1))])\n",
    "\n",
    "        return np.dot(G, self.weights)"
   ]
  },
  {
   "cell_type": "markdown",
   "metadata": {},
   "source": [
    "#### Generate synthetic data\n"
   ]
  },
  {
   "cell_type": "code",
   "execution_count": 17,
   "metadata": {},
   "outputs": [],
   "source": [
    "X, y = make_classification(n_samples=1000, n_features=3, n_informative=2, n_redundant=0, random_state=42)\n",
    "X_train, X_test, y_train, y_test = train_test_split(X, y, test_size=0.2, random_state=42)"
   ]
  },
  {
   "cell_type": "code",
   "execution_count": 18,
   "metadata": {},
   "outputs": [
    {
     "data": {
      "text/plain": [
       "((1000, 3), (1000,))"
      ]
     },
     "execution_count": 18,
     "metadata": {},
     "output_type": "execute_result"
    }
   ],
   "source": [
    "X.shape, y.shape"
   ]
  },
  {
   "cell_type": "markdown",
   "metadata": {},
   "source": [
    "Sample X and y "
   ]
  },
  {
   "cell_type": "code",
   "execution_count": 19,
   "metadata": {},
   "outputs": [
    {
     "name": "stdout",
     "output_type": "stream",
     "text": [
      "[[ 0.96422927  1.99566749  0.24414337]\n",
      " [-1.35806186 -0.25495579  0.50289028]\n",
      " [ 1.73205679  0.26125053 -2.21417748]\n",
      " [-1.51987766  1.02370955 -0.26269143]\n",
      " [ 4.02026158  1.38145408 -1.58214341]]\n"
     ]
    }
   ],
   "source": [
    "print(X[:5])"
   ]
  },
  {
   "cell_type": "code",
   "execution_count": 25,
   "metadata": {},
   "outputs": [
    {
     "name": "stdout",
     "output_type": "stream",
     "text": [
      "[1 0 1 0 1]\n"
     ]
    }
   ],
   "source": [
    "print(y[:5])"
   ]
  },
  {
   "cell_type": "code",
   "execution_count": 20,
   "metadata": {},
   "outputs": [],
   "source": [
    "scaler = StandardScaler()\n",
    "X_train = scaler.fit_transform(X_train)\n",
    "X_test = scaler.transform(X_test)"
   ]
  },
  {
   "cell_type": "code",
   "execution_count": 21,
   "metadata": {},
   "outputs": [],
   "source": [
    "n_centers = 10\n",
    "rbf = RBFNetwork(n_centers=n_centers)\n",
    "rbf.fit(X_train, y_train)"
   ]
  },
  {
   "cell_type": "markdown",
   "metadata": {},
   "source": [
    "Test Accuracy"
   ]
  },
  {
   "cell_type": "code",
   "execution_count": 22,
   "metadata": {},
   "outputs": [
    {
     "name": "stdout",
     "output_type": "stream",
     "text": [
      "Accuracy: 0.85\n"
     ]
    }
   ],
   "source": [
    "y_pred = rbf.predict(X_test)\n",
    "\n",
    "from sklearn.metrics import accuracy_score\n",
    "y_pred_binary = (y_pred > 0.5).astype(int)\n",
    "accuracy = accuracy_score(y_test, y_pred_binary)\n",
    "print(f'Accuracy: {accuracy:.2f}')"
   ]
  },
  {
   "cell_type": "markdown",
   "metadata": {},
   "source": [
    "Train Accuracy"
   ]
  },
  {
   "cell_type": "code",
   "execution_count": 24,
   "metadata": {},
   "outputs": [
    {
     "name": "stdout",
     "output_type": "stream",
     "text": [
      "Accuracy: 0.87\n"
     ]
    }
   ],
   "source": [
    "y_pred = rbf.predict(X_train)\n",
    "\n",
    "y_pred_binary = (y_pred > 0.5).astype(int)\n",
    "accuracy = accuracy_score(y_train, y_pred_binary)\n",
    "print(f'Accuracy: {accuracy:.2f}')"
   ]
  }
 ],
 "metadata": {
  "kernelspec": {
   "display_name": "Python 3",
   "language": "python",
   "name": "python3"
  },
  "language_info": {
   "codemirror_mode": {
    "name": "ipython",
    "version": 3
   },
   "file_extension": ".py",
   "mimetype": "text/x-python",
   "name": "python",
   "nbconvert_exporter": "python",
   "pygments_lexer": "ipython3",
   "version": "3.11.6"
  }
 },
 "nbformat": 4,
 "nbformat_minor": 2
}
