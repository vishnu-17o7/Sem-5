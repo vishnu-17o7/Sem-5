{
 "cells": [
  {
   "cell_type": "code",
   "execution_count": 28,
   "metadata": {},
   "outputs": [
    {
     "name": "stdout",
     "output_type": "stream",
     "text": [
      "Test Sample s belongs to Cluster :  0\n",
      "Trained weights :  [[0.003125, 0.009375, 0.6640625, 0.9984375], [0.996875, 0.334375, 0.0109375, 0.0046875]]\n"
     ]
    }
   ],
   "source": [
    "import math\n",
    "\n",
    "\n",
    "class SOM:\n",
    "\tdef winner(self, weights, sample):\n",
    "\n",
    "\t\tD0 = 0\n",
    "\t\tD1 = 0\n",
    "\t\tfor i in range(len(sample)):\n",
    "\t\t\tD0 = D0 + math.pow((sample[i] - weights[0][i]), 2)\n",
    "\t\t\tD1 = D1 + math.pow((sample[i] - weights[1][i]), 2)\n",
    "\n",
    "\t\tif D0 < D1:\n",
    "\t\t\treturn 0\n",
    "\t\telse:\n",
    "\t\t\treturn 1\n",
    "\n",
    "\tdef update(self, weights, sample, J, alpha):\n",
    "\t\tfor i in range(len(weights[0])):\n",
    "\t\t\tweights[J][i] = weights[J][i] + alpha * (sample[i] - weights[J][i])\n",
    "\n",
    "\t\treturn weights\n",
    "\n",
    "def main():\n",
    "\n",
    "\tT = [[1, 1, 0, 0], [0, 0, 0, 1], [1, 0, 0, 0], [0, 0, 1, 1]]\n",
    "\tm, n = len(T), len(T[0])\n",
    "\tweights = [[0.2, 0.6, 0.5, 0.9], [0.8, 0.4, 0.7, 0.3]]\n",
    "\n",
    "\tob = SOM()\n",
    "\n",
    "\tepochs = 3\n",
    "\talpha = 0.5\n",
    "\n",
    "\tfor i in range(epochs):\n",
    "\t\tfor j in range(m):\n",
    "\n",
    "\t\t\tsample = T[j]\n",
    "\t\t\tJ = ob.winner(weights, sample)\n",
    "\t\t\tweights = ob.update(weights, sample, J, alpha)\n",
    "\n",
    "\ts = [0, 0, 0, 1]\n",
    "\tJ = ob.winner(weights, s)\n",
    "\n",
    "\tprint(\"Test Sample s belongs to Cluster : \", J)\n",
    "\tprint(\"Trained weights : \", weights)\n",
    "\n",
    "if __name__ == \"__main__\":\n",
    "\tmain()"
   ]
  }
 ],
 "metadata": {
  "kernelspec": {
   "display_name": "Python 3",
   "language": "python",
   "name": "python3"
  },
  "language_info": {
   "codemirror_mode": {
    "name": "ipython",
    "version": 3
   },
   "file_extension": ".py",
   "mimetype": "text/x-python",
   "name": "python",
   "nbconvert_exporter": "python",
   "pygments_lexer": "ipython3",
   "version": "3.11.6"
  }
 },
 "nbformat": 4,
 "nbformat_minor": 2
}
