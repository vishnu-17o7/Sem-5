{
 "cells": [
  {
   "cell_type": "code",
   "execution_count": 1,
   "metadata": {},
   "outputs": [
    {
     "name": "stdout",
     "output_type": "stream",
     "text": [
      "WARNING:tensorflow:From c:\\Python311\\Lib\\site-packages\\keras\\src\\losses.py:2976: The name tf.losses.sparse_softmax_cross_entropy is deprecated. Please use tf.compat.v1.losses.sparse_softmax_cross_entropy instead.\n",
      "\n"
     ]
    }
   ],
   "source": [
    "from tensorflow.keras import layers, models\n",
    "from tensorflow.keras.datasets import mnist\n",
    "from tensorflow.keras.utils import to_categorical"
   ]
  },
  {
   "cell_type": "code",
   "execution_count": 2,
   "metadata": {},
   "outputs": [],
   "source": [
    "(train_images, train_labels), (test_images, test_labels) = mnist.load_data()\n",
    "\n",
    "train_images = train_images.reshape((60000, 28 * 28)).astype('float32') / 255\n",
    "test_images = test_images.reshape((10000, 28 * 28)).astype('float32') / 255\n",
    "\n",
    "train_labels = to_categorical(train_labels)\n",
    "test_labels = to_categorical(test_labels)"
   ]
  },
  {
   "cell_type": "code",
   "execution_count": 3,
   "metadata": {},
   "outputs": [
    {
     "name": "stdout",
     "output_type": "stream",
     "text": [
      "WARNING:tensorflow:From c:\\Python311\\Lib\\site-packages\\keras\\src\\backend.py:873: The name tf.get_default_graph is deprecated. Please use tf.compat.v1.get_default_graph instead.\n",
      "\n",
      "WARNING:tensorflow:From c:\\Python311\\Lib\\site-packages\\keras\\src\\optimizers\\__init__.py:309: The name tf.train.Optimizer is deprecated. Please use tf.compat.v1.train.Optimizer instead.\n",
      "\n",
      "Epoch 1/20\n",
      "WARNING:tensorflow:From c:\\Python311\\Lib\\site-packages\\keras\\src\\utils\\tf_utils.py:492: The name tf.ragged.RaggedTensorValue is deprecated. Please use tf.compat.v1.ragged.RaggedTensorValue instead.\n",
      "\n",
      "WARNING:tensorflow:From c:\\Python311\\Lib\\site-packages\\keras\\src\\engine\\base_layer_utils.py:384: The name tf.executing_eagerly_outside_functions is deprecated. Please use tf.compat.v1.executing_eagerly_outside_functions instead.\n",
      "\n",
      "120/120 [==============================] - 2s 7ms/step - loss: 0.4211 - accuracy: 0.8809\n",
      "Epoch 2/20\n",
      "120/120 [==============================] - 1s 7ms/step - loss: 0.1900 - accuracy: 0.9465\n",
      "Epoch 3/20\n",
      "120/120 [==============================] - 1s 7ms/step - loss: 0.1306 - accuracy: 0.9634\n",
      "Epoch 4/20\n",
      "120/120 [==============================] - 1s 7ms/step - loss: 0.0994 - accuracy: 0.9716\n",
      "Epoch 5/20\n",
      "120/120 [==============================] - 1s 7ms/step - loss: 0.0789 - accuracy: 0.9770\n",
      "Epoch 6/20\n",
      "120/120 [==============================] - 1s 7ms/step - loss: 0.0648 - accuracy: 0.9820\n",
      "Epoch 7/20\n",
      "120/120 [==============================] - 1s 7ms/step - loss: 0.0540 - accuracy: 0.9846\n",
      "Epoch 8/20\n",
      "120/120 [==============================] - 1s 7ms/step - loss: 0.0453 - accuracy: 0.9872\n",
      "Epoch 9/20\n",
      "120/120 [==============================] - 1s 7ms/step - loss: 0.0383 - accuracy: 0.9895\n",
      "Epoch 10/20\n",
      "120/120 [==============================] - 1s 7ms/step - loss: 0.0325 - accuracy: 0.9914\n",
      "Epoch 11/20\n",
      "120/120 [==============================] - 1s 7ms/step - loss: 0.0282 - accuracy: 0.9928\n",
      "Epoch 12/20\n",
      "120/120 [==============================] - 1s 7ms/step - loss: 0.0238 - accuracy: 0.9940\n",
      "Epoch 13/20\n",
      "120/120 [==============================] - 1s 7ms/step - loss: 0.0202 - accuracy: 0.9956\n",
      "Epoch 14/20\n",
      "120/120 [==============================] - 1s 7ms/step - loss: 0.0171 - accuracy: 0.9964\n",
      "Epoch 15/20\n",
      "120/120 [==============================] - 1s 7ms/step - loss: 0.0144 - accuracy: 0.9975\n",
      "Epoch 16/20\n",
      "120/120 [==============================] - 1s 7ms/step - loss: 0.0125 - accuracy: 0.9980\n",
      "Epoch 17/20\n",
      "120/120 [==============================] - 1s 7ms/step - loss: 0.0104 - accuracy: 0.9986\n",
      "Epoch 18/20\n",
      "120/120 [==============================] - 1s 7ms/step - loss: 0.0091 - accuracy: 0.9988\n",
      "Epoch 19/20\n",
      "120/120 [==============================] - 1s 7ms/step - loss: 0.0075 - accuracy: 0.9991\n",
      "Epoch 20/20\n",
      "120/120 [==============================] - 1s 7ms/step - loss: 0.0065 - accuracy: 0.9992\n"
     ]
    },
    {
     "data": {
      "text/plain": [
       "<keras.src.callbacks.History at 0x113803a3690>"
      ]
     },
     "execution_count": 3,
     "metadata": {},
     "output_type": "execute_result"
    }
   ],
   "source": [
    "model = models.Sequential()\n",
    "model.add(layers.Dense(512, activation='relu', input_shape=(28 * 28,))) \n",
    "model.add(layers.Dense(10, activation='softmax'))  \n",
    "\n",
    "model.compile(optimizer='rmsprop', loss='categorical_crossentropy', metrics=['accuracy'])\n",
    "\n",
    "model.fit(train_images, train_labels, epochs=20, batch_size=500)"
   ]
  },
  {
   "cell_type": "code",
   "execution_count": 4,
   "metadata": {},
   "outputs": [
    {
     "name": "stdout",
     "output_type": "stream",
     "text": [
      "313/313 [==============================] - 1s 2ms/step - loss: 0.0631 - accuracy: 0.9812\n",
      "Test accuracy: 0.9811999797821045\n",
      "1875/1875 [==============================] - 3s 2ms/step - loss: 0.0065 - accuracy: 0.9992\n",
      "Train accuracy: 0.9992333054542542\n"
     ]
    }
   ],
   "source": [
    "test_loss, test_acc = model.evaluate(test_images, test_labels)\n",
    "print(\"Test accuracy:\", test_acc)\n",
    "\n",
    "train_loss, train_acc = model.evaluate(train_images, train_labels)\n",
    "print(\"Train accuracy:\", train_acc)"
   ]
  }
 ],
 "metadata": {
  "kernelspec": {
   "display_name": "Python 3",
   "language": "python",
   "name": "python3"
  },
  "language_info": {
   "codemirror_mode": {
    "name": "ipython",
    "version": 3
   },
   "file_extension": ".py",
   "mimetype": "text/x-python",
   "name": "python",
   "nbconvert_exporter": "python",
   "pygments_lexer": "ipython3",
   "version": "3.11.6"
  }
 },
 "nbformat": 4,
 "nbformat_minor": 2
}
