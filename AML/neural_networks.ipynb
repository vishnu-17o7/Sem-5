{
 "cells": [
  {
   "cell_type": "code",
   "execution_count": 1,
   "id": "39c37305",
   "metadata": {},
   "outputs": [
    {
     "name": "stdout",
     "output_type": "stream",
     "text": [
      "Recalled Output: [ 1. -1.]\n"
     ]
    }
   ],
   "source": [
    "import numpy as np\n",
    "\n",
    "class BAM:\n",
    "    def __init__(self, input_size, output_size):\n",
    "        self.weights = np.zeros((input_size, output_size))\n",
    "\n",
    "    def train(self, input_data, output_data):\n",
    "        for i, o in zip(input_data, output_data):\n",
    "            self.weights += np.outer(i, o)\n",
    "\n",
    "    def recall(self, input_pattern, direction='forward'):\n",
    "        if direction == 'forward':\n",
    "            return np.sign(input_pattern @ self.weights)\n",
    "        elif direction == 'backward':\n",
    "            return np.sign(input_pattern @ self.weights.T)\n",
    "\n",
    "# Example usage\n",
    "input_data = np.array([[1, -1], [-1, 1]])\n",
    "output_data = np.array([[1, -1], [-1, 1]])\n",
    "\n",
    "bam = BAM(input_size=2, output_size=2)\n",
    "bam.train(input_data, output_data)\n",
    "\n",
    "input_pattern = np.array([1, -1])\n",
    "print(\"Recalled Output:\", bam.recall(input_pattern))  # Forward recall\n"
   ]
  },
  {
   "cell_type": "code",
   "execution_count": 2,
   "id": "3b213195",
   "metadata": {},
   "outputs": [],
   "source": [
    "import numpy as np\n",
    "\n",
    "class KSOM:\n",
    "    def __init__(self, input_dim, map_dim, learning_rate=0.5):\n",
    "        self.weights = np.random.rand(map_dim[0], map_dim[1], input_dim)\n",
    "        self.lr = learning_rate\n",
    "\n",
    "    def train(self, data, epochs=100):\n",
    "        for epoch in range(epochs):\n",
    "            for sample in data:\n",
    "                # Find the Best Matching Unit (BMU)\n",
    "                bmu_idx = self.find_bmu(sample)\n",
    "                # Update the BMU and its neighbors\n",
    "                self.update_weights(sample, bmu_idx)\n",
    "\n",
    "    def find_bmu(self, sample):\n",
    "        distances = np.linalg.norm(self.weights - sample, axis=2)\n",
    "        return np.unravel_index(np.argmin(distances), distances.shape)\n",
    "\n",
    "    def update_weights(self, sample, bmu_idx):\n",
    "        self.weights[bmu_idx] += self.lr * (sample - self.weights[bmu_idx])\n",
    "\n",
    "# Example usage\n",
    "data = np.array([[0.2, 0.8], [0.5, 0.3], [0.9, 0.6]])\n",
    "ksom = KSOM(input_dim=2, map_dim=(3, 3))\n",
    "ksom.train(data, epochs=100)\n"
   ]
  },
  {
   "cell_type": "code",
   "execution_count": 3,
   "id": "b86fda58",
   "metadata": {},
   "outputs": [
    {
     "name": "stdout",
     "output_type": "stream",
     "text": [
      "Winning neuron: 1\n"
     ]
    }
   ],
   "source": [
    "import numpy as np\n",
    "\n",
    "class MaxNET:\n",
    "    def __init__(self, size, epsilon=0.1):\n",
    "        self.epsilon = epsilon\n",
    "        self.weights = np.eye(size) - np.ones((size, size)) * epsilon\n",
    "\n",
    "    def activate(self, inputs):\n",
    "        inputs = np.copy(inputs)\n",
    "        while np.sum(inputs > 0) > 1:\n",
    "            inputs = np.dot(self.weights, inputs)\n",
    "            inputs = np.where(inputs < 0, 0, inputs)  # No negative activations\n",
    "        return inputs\n",
    "\n",
    "# Example usage\n",
    "inputs = np.array([0.2, 0.8, 0.5])\n",
    "maxnet = MaxNET(size=len(inputs))\n",
    "output = maxnet.activate(inputs)\n",
    "print(\"Winning neuron:\", np.argmax(output))\n"
   ]
  },
  {
   "cell_type": "code",
   "execution_count": 4,
   "id": "33de0849",
   "metadata": {},
   "outputs": [
    {
     "name": "stdout",
     "output_type": "stream",
     "text": [
      "Prediction: [0.27256657 0.57485071 0.64487192]\n"
     ]
    }
   ],
   "source": [
    "import numpy as np\n",
    "\n",
    "class RBFNetwork:\n",
    "    def __init__(self, num_centers, input_dim):\n",
    "        self.num_centers = num_centers\n",
    "        self.centers = np.random.uniform(-1, 1, (num_centers, input_dim))\n",
    "        self.weights = np.random.randn(num_centers)\n",
    "\n",
    "    def rbf(self, x, c, sigma=1.0):\n",
    "        return np.exp(-np.linalg.norm(x-c)**2 / (2 * sigma**2))\n",
    "\n",
    "    def basis_function_output(self, X):\n",
    "        return np.array([[self.rbf(x, c) for c in self.centers] for x in X])\n",
    "\n",
    "    def train(self, X, y):\n",
    "        G = self.basis_function_output(X)\n",
    "        self.weights = np.linalg.pinv(G).dot(y)\n",
    "\n",
    "    def predict(self, X):\n",
    "        G = self.basis_function_output(X)\n",
    "        return G.dot(self.weights)\n",
    "\n",
    "# Example usage\n",
    "X = np.array([[0.1, 0.2], [0.4, 0.6], [0.7, 0.9]])\n",
    "y = np.array([0.3, 0.5, 0.7])\n",
    "\n",
    "rbf_net = RBFNetwork(num_centers=2, input_dim=2)\n",
    "rbf_net.train(X, y)\n",
    "print(\"Prediction:\", rbf_net.predict(X))\n"
   ]
  },
  {
   "cell_type": "code",
   "execution_count": 5,
   "id": "f702bf7d",
   "metadata": {},
   "outputs": [
    {
     "name": "stdout",
     "output_type": "stream",
     "text": [
      "Recalled Pattern: [ 1. -1.  1. -1.]\n"
     ]
    }
   ],
   "source": [
    "import numpy as np\n",
    "\n",
    "class HopfieldNetwork:\n",
    "    def __init__(self, size):\n",
    "        self.size = size\n",
    "        self.weights = np.zeros((size, size))\n",
    "\n",
    "    def train(self, patterns):\n",
    "        for pattern in patterns:\n",
    "            self.weights += np.outer(pattern, pattern)\n",
    "        np.fill_diagonal(self.weights, 0)  # No self-connections\n",
    "\n",
    "    def recall(self, pattern, steps=5):\n",
    "        for _ in range(steps):\n",
    "            pattern = np.sign(self.weights @ pattern)\n",
    "        return pattern\n",
    "\n",
    "# Example usage\n",
    "patterns = np.array([[1, -1, 1, -1], [-1, 1, -1, 1]])\n",
    "hopfield_net = HopfieldNetwork(size=4)\n",
    "hopfield_net.train(patterns)\n",
    "\n",
    "input_pattern = np.array([1, -1, 1, -1])\n",
    "output_pattern = hopfield_net.recall(input_pattern)\n",
    "print(\"Recalled Pattern:\", output_pattern)\n"
   ]
  }
 ],
 "metadata": {
  "kernelspec": {
   "display_name": "Python 3",
   "language": "python",
   "name": "python3"
  },
  "language_info": {
   "codemirror_mode": {
    "name": "ipython",
    "version": 3
   },
   "file_extension": ".py",
   "mimetype": "text/x-python",
   "name": "python",
   "nbconvert_exporter": "python",
   "pygments_lexer": "ipython3",
   "version": "3.10.11"
  }
 },
 "nbformat": 4,
 "nbformat_minor": 5
}
