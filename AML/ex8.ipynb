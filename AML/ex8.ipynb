{
 "cells": [
  {
   "cell_type": "code",
   "execution_count": 5,
   "metadata": {},
   "outputs": [],
   "source": [
    "import pandas as pd\n",
    "import numpy as np\n",
    "from sklearn.preprocessing import LabelEncoder\n",
    "from sklearn.model_selection import train_test_split\n",
    "from sklearn.discriminant_analysis import LinearDiscriminantAnalysis\n",
    "from sklearn.linear_model import LogisticRegression\n",
    "from sklearn.metrics import accuracy_score"
   ]
  },
  {
   "cell_type": "code",
   "execution_count": 6,
   "metadata": {},
   "outputs": [
    {
     "data": {
      "text/plain": [
       "(4024, 16)"
      ]
     },
     "execution_count": 6,
     "metadata": {},
     "output_type": "execute_result"
    }
   ],
   "source": [
    "df = pd.read_csv(r'datasets\\Breast_Cancer.csv')\n",
    "df.shape"
   ]
  },
  {
   "cell_type": "code",
   "execution_count": 7,
   "metadata": {},
   "outputs": [],
   "source": [
    "le = LabelEncoder()\n",
    "df['Race'] = le.fit_transform(df['Race'])\n",
    "df['Marital Status'] = le.fit_transform(df['Marital Status'])\n",
    "df['T Stage '] = le.fit_transform(df['T Stage '])\n",
    "df['N Stage'] = le.fit_transform(df['N Stage'])\n",
    "df['6th Stage'] = le.fit_transform(df['6th Stage'])\n",
    "df['differentiate'] = le.fit_transform(df['differentiate'])\n",
    "df['Grade'] = le.fit_transform(df['Grade'])\n",
    "df['A Stage'] = le.fit_transform(df['A Stage'])\n",
    "df['Estrogen Status'] = le.fit_transform(df['Estrogen Status'])\n",
    "df['Progesterone Status'] = le.fit_transform(df['Progesterone Status'])\n"
   ]
  },
  {
   "cell_type": "code",
   "execution_count": 8,
   "metadata": {},
   "outputs": [],
   "source": [
    "\n",
    "X = df.drop('Status',axis=1)\n",
    "y = df['Status']\n",
    "X_train, X_test, y_train, y_test = train_test_split(X, y, test_size=0.3, random_state=42)"
   ]
  },
  {
   "cell_type": "code",
   "execution_count": 9,
   "metadata": {},
   "outputs": [],
   "source": [
    "def evaluate_model_with_lda(n_components):\n",
    "    lda = LinearDiscriminantAnalysis(n_components=n_components)\n",
    "    X_train_lda = lda.fit_transform(X_train, y_train)\n",
    "    X_test_lda = lda.transform(X_test)\n",
    "    \n",
    "    model = LogisticRegression(max_iter=10000)\n",
    "    model.fit(X_train_lda, y_train)\n",
    "    \n",
    "    y_pred = model.predict(X_test_lda)\n",
    "    accuracy = accuracy_score(y_test, y_pred)\n",
    "    \n",
    "    return accuracy, lda"
   ]
  },
  {
   "cell_type": "code",
   "execution_count": 12,
   "metadata": {},
   "outputs": [
    {
     "name": "stdout",
     "output_type": "stream",
     "text": [
      "Number of LDA components: 1, Accuracy: 0.8990\n"
     ]
    }
   ],
   "source": [
    "components_list = [1]  \n",
    "results = {}\n",
    "\n",
    "for n in components_list:\n",
    "    accuracy, lda = evaluate_model_with_lda(n)\n",
    "    results[n] = accuracy\n",
    "    print(f\"Number of LDA components: {n}, Accuracy: {accuracy:.4f}\")"
   ]
  }
 ],
 "metadata": {
  "kernelspec": {
   "display_name": "Python 3",
   "language": "python",
   "name": "python3"
  },
  "language_info": {
   "codemirror_mode": {
    "name": "ipython",
    "version": 3
   },
   "file_extension": ".py",
   "mimetype": "text/x-python",
   "name": "python",
   "nbconvert_exporter": "python",
   "pygments_lexer": "ipython3",
   "version": "3.11.6"
  }
 },
 "nbformat": 4,
 "nbformat_minor": 2
}
