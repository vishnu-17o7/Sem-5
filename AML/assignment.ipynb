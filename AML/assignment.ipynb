{
 "cells": [
  {
   "cell_type": "code",
   "execution_count": 22,
   "metadata": {},
   "outputs": [],
   "source": [
    "import numpy as np\n",
    "import pandas as pd\n",
    "import matplotlib.pyplot as plt\n",
    "from sklearn.preprocessing import LabelEncoder\n",
    "from sklearn.metrics import confusion_matrix\n",
    "from sklearn.metrics import classification_report"
   ]
  },
  {
   "cell_type": "markdown",
   "metadata": {},
   "source": [
    "Dataset Link :https://www.kaggle.com/datasets/nikbearbrown/tmnist-alphabet-94-characters\n",
    "\n",
    "Dataset Deatils:\n",
    "Typography MNIST (TMNIST)\n",
    "\n",
    "MNIST style images of the following 94 alphabetic characters:\n",
    "\n",
    "{'0', '1', '2', '3', '4', '5', '6', '7', '8', '9', 'a', 'b', 'c', 'd', 'e', 'f', 'g', 'h', 'i', 'j', 'k', 'l', 'm', 'n', 'o', 'p', 'q', 'r', 's', 't', 'u', 'v', 'w', 'x', 'y', 'z', 'A', 'B', 'C', 'D', 'E', 'F', 'G', 'H', 'I', 'J', 'K', 'L', 'M', 'N', 'O', 'P', 'Q', 'R', 'S', 'T', 'U', 'V', 'W', 'X', 'Y', 'Z', '!', '\"', '#', '$', '%', '&', \"'\", '(', ')', '*', '+', ',', '-', '.', '/', ':', ';', '<', '=', '>', '?', '@', '[', '\\', ']', '^', '_', '`', '{', '|', '}', '~'}\n",
    "\n",
    "This repository contains a single csv .file.\n",
    "The structure of the csv file is:\n",
    "\n",
    "    the first row contains column headers ['names', 'labels','1','2',…..'784']\n",
    "    The 'names' column contains font file names such as 'Acme-Regular' and 'ZillaSlab-Bold'\n",
    "    The 'labels' column contains characters such as '@','E' or '+'\n",
    "    The remaining 784 columns contain the grayscale pixel values for the image of the corresponding character in the 'name' font-style\n",
    "\n",
    "This dataset contains over 281,000 images and is part of the Warhol.ai Computational Creativity and Cognitive Type projects. "
   ]
  },
  {
   "cell_type": "code",
   "execution_count": 12,
   "metadata": {},
   "outputs": [],
   "source": [
    "data = pd.read_csv(r\"C:\\Users\\vishn\\Downloads\\archive(1)\\94_character_TMNIST.csv\")"
   ]
  },
  {
   "cell_type": "code",
   "execution_count": 27,
   "metadata": {},
   "outputs": [
    {
     "data": {
      "image/png": "[encoded data removed]",
      "text/plain": [
       "<Figure size 1000x400 with 10 Axes>"
      ]
     },
     "metadata": {},
     "output_type": "display_data"
    }
   ],
   "source": [
    "head = data.head(10)\n",
    "\n",
    "plt.figure(figsize=(10, 4))\n",
    "for i in range(10):\n",
    "    pixels = head.iloc[i, 2:].values.astype(np.uint8).reshape((28, 28))\n",
    "    \n",
    "    label = head.iloc[i, 1]\n",
    "    font_name = head.iloc[i, 0]\n",
    "    \n",
    "    plt.subplot(2, 5, i+1)\n",
    "    plt.imshow(pixels, cmap='gray')\n",
    "    plt.title(f\"{label}\")\n",
    "    plt.axis('off')\n",
    "\n",
    "plt.tight_layout()\n",
    "plt.show()"
   ]
  },
  {
   "cell_type": "markdown",
   "metadata": {},
   "source": [
    "Activation Function : Sigmoid\n",
    "\n",
    "Epochs : 20\n",
    "\n",
    "Weight Updation Rule : Learning Rate * Xi\n",
    "                            ,where Xi is the input value"
   ]
  },
  {
   "cell_type": "code",
   "execution_count": 15,
   "metadata": {},
   "outputs": [
    {
     "name": "stdout",
     "output_type": "stream",
     "text": [
      "Test accuracy: 80.86%\n"
     ]
    }
   ],
   "source": [
    "X = data.iloc[:, 2:].values / 255.0 \n",
    "y = data['labels'].values\n",
    "\n",
    "\n",
    "label_encoder = LabelEncoder()\n",
    "y_numeric = label_encoder.fit_transform(y)\n",
    "\n",
    "X_train, X_test, y_train, y_test = train_test_split(X, y_numeric, test_size=0.2, random_state=42)\n",
    "\n",
    "num_features = X_train.shape[1]\n",
    "num_classes = len(np.unique(y_numeric))\n",
    "weights = np.random.randn(num_features, num_classes)\n",
    "bias = np.zeros(num_classes)\n",
    "learning_rate = 0.01\n",
    "\n",
    "def activation(z):\n",
    "    return 1 / (1 + np.exp(-z))\n",
    "\n",
    "\n",
    "for epoch in range(20): \n",
    "    for i in range(X_train.shape[0]):\n",
    "        z = np.dot(X_train[i], weights) + bias\n",
    "        y_pred = activation(z)\n",
    "        \n",
    "        if y_pred != y_train[i]:\n",
    "            weights[:, y_train[i]] += learning_rate * X_train[i]\n",
    "            weights[:, y_pred] -= learning_rate * X_train[i]\n",
    "\n",
    "z_test = np.dot(X_test, weights) + bias\n",
    "y_test_pred = activation(z_test)\n",
    "\n",
    "accuracy = np.mean(y_test_pred == y_test)\n",
    "print(f\"Test accuracy: {accuracy * 100:.2f}%\")"
   ]
  },
  {
   "cell_type": "code",
   "execution_count": 20,
   "metadata": {},
   "outputs": [
    {
     "name": "stdout",
     "output_type": "stream",
     "text": [
      "Confusion Matrix:\n",
      "[[542   0   0 ...   3   0   0]\n",
      " [  1 520   0 ...   0   0   1]\n",
      " [  0   0 552 ...   0   0   1]\n",
      " ...\n",
      " [  6   0   0 ... 504   0   0]\n",
      " [  3   0   1 ...   0 577   0]\n",
      " [  0   1   0 ...   0   0 556]]\n",
      "Classification Report:\n",
      "              precision    recall  f1-score   support\n",
      "\n",
      "           !       0.88      0.90      0.89       602\n",
      "           \"       0.88      0.94      0.91       556\n",
      "           #       0.92      0.95      0.93       579\n",
      "           $       0.94      0.90      0.92       583\n",
      "           %       0.94      0.91      0.92       617\n",
      "           &       0.89      0.88      0.89       566\n",
      "           '       0.76      0.74      0.75       617\n",
      "           (       0.96      0.93      0.94       587\n",
      "           )       0.92      0.93      0.92       591\n",
      "           *       0.80      0.89      0.84       624\n",
      "           +       0.98      0.96      0.97       626\n",
      "           ,       0.75      0.87      0.80       583\n",
      "           -       0.68      0.94      0.79       634\n",
      "           .       0.91      0.78      0.84       574\n",
      "           /       0.79      0.90      0.84       597\n",
      "           0       0.49      0.71      0.58       570\n",
      "           1       0.82      0.75      0.78       589\n",
      "           2       0.94      0.93      0.93       613\n",
      "           3       0.93      0.90      0.92       600\n",
      "           4       0.92      0.89      0.91       581\n",
      "           5       0.90      0.83      0.86       588\n",
      "           6       0.95      0.84      0.89       634\n",
      "           7       0.87      0.90      0.89       595\n",
      "           8       0.92      0.84      0.88       586\n",
      "           9       0.89      0.90      0.90       620\n",
      "           :       0.96      0.98      0.97       615\n",
      "           ;       0.96      0.93      0.95       584\n",
      "           <       0.96      0.98      0.97       595\n",
      "           =       0.98      0.94      0.96       613\n",
      "           >       0.98      0.96      0.97       622\n",
      "           ?       0.97      0.91      0.94       612\n",
      "           @       0.94      0.88      0.91       594\n",
      "           A       0.90      0.82      0.86       547\n",
      "           B       0.83      0.87      0.85       585\n",
      "           C       0.58      0.74      0.65       547\n",
      "           D       0.88      0.89      0.89       571\n",
      "           E       0.87      0.86      0.86       542\n",
      "           F       0.87      0.88      0.87       577\n",
      "           G       0.86      0.78      0.82       600\n",
      "           H       0.90      0.84      0.87       565\n",
      "           I       0.63      0.32      0.42       586\n",
      "           J       0.76      0.79      0.78       576\n",
      "           K       0.86      0.86      0.86       577\n",
      "           L       0.89      0.87      0.88       574\n",
      "           M       0.78      0.88      0.83       565\n",
      "           N       0.72      0.90      0.80       578\n",
      "           O       0.59      0.58      0.58       618\n",
      "           P       0.77      0.89      0.83       604\n",
      "           Q       0.72      0.89      0.79       590\n",
      "           R       0.80      0.92      0.86       595\n",
      "           S       0.65      0.79      0.71       605\n",
      "           T       0.92      0.81      0.86       567\n",
      "           U       0.49      0.90      0.64       615\n",
      "           V       0.53      0.79      0.64       550\n",
      "           W       0.65      0.20      0.31       555\n",
      "           X       0.57      0.78      0.66       602\n",
      "           Y       0.83      0.89      0.86       529\n",
      "           Z       0.69      0.56      0.62       593\n",
      "           [       0.91      0.80      0.85       583\n",
      "           \\       0.91      0.93      0.92       576\n",
      "           ]       0.85      0.89      0.87       578\n",
      "           ^       0.95      0.96      0.96       592\n",
      "           _       0.90      0.56      0.69       572\n",
      "           `       0.93      0.92      0.93       550\n",
      "           a       0.71      0.88      0.79       522\n",
      "           b       0.89      0.87      0.88       590\n",
      "           c       0.64      0.51      0.57       587\n",
      "           d       0.90      0.82      0.86       554\n",
      "           e       0.80      0.87      0.83       578\n",
      "           f       0.83      0.79      0.81       588\n",
      "           g       0.76      0.80      0.78       630\n",
      "           h       0.85      0.85      0.85       598\n",
      "           i       0.91      0.77      0.83       558\n",
      "           j       0.78      0.84      0.81       601\n",
      "           k       0.94      0.81      0.87       594\n",
      "           l       0.58      0.38      0.46       540\n",
      "           m       0.91      0.87      0.89       565\n",
      "           n       0.91      0.79      0.85       575\n",
      "           o       0.68      0.35      0.46       551\n",
      "           p       0.89      0.72      0.80       578\n",
      "           q       0.86      0.83      0.84       567\n",
      "           r       0.90      0.78      0.84       554\n",
      "           s       0.66      0.61      0.63       561\n",
      "           t       0.64      0.91      0.75       588\n",
      "           u       0.85      0.23      0.37       614\n",
      "           v       0.68      0.25      0.37       571\n",
      "           w       0.50      0.85      0.63       503\n",
      "           x       0.71      0.43      0.54       602\n",
      "           y       0.89      0.81      0.85       570\n",
      "           z       0.60      0.64      0.62       501\n",
      "           {       0.96      0.95      0.95       588\n",
      "           |       0.50      0.87      0.64       578\n",
      "           }       0.95      0.93      0.94       619\n",
      "           ~       0.97      0.95      0.96       583\n",
      "\n",
      "    accuracy                           0.81     54819\n",
      "   macro avg       0.82      0.81      0.80     54819\n",
      "weighted avg       0.82      0.81      0.80     54819\n",
      "\n"
     ]
    }
   ],
   "source": [
    "cm = confusion_matrix(y_test, y_test_pred)\n",
    "print(\"Confusion Matrix:\")\n",
    "print(cm)\n",
    "print(\"Classification Report:\")\n",
    "print(classification_report(y_test, y_test_pred, target_names=label_encoder.classes_))"
   ]
  },
  {
   "cell_type": "code",
   "execution_count": 25,
   "metadata": {},
   "outputs": [
    {
     "name": "stdout",
     "output_type": "stream",
     "text": [
      "  Actual Predicted  Correct\n",
      "0      &         &     True\n",
      "1      '         '     True\n",
      "2      i         i     True\n",
      "3      v         V    False\n",
      "4      /         /     True\n",
      "5      _         _     True\n",
      "6      S         d    False\n",
      "7      g         ,    False\n",
      "8      ,         ,     True\n",
      "9      h         H    False\n"
     ]
    }
   ],
   "source": [
    "y_test_actual_labels = label_encoder.inverse_transform(y_test)\n",
    "y_test_pred_labels = label_encoder.inverse_transform(y_test_pred)\n",
    "\n",
    "results_df = pd.DataFrame({\n",
    "    'Actual': y_test_actual_labels,\n",
    "    'Predicted': y_test_pred_labels,\n",
    "    'Correct': y_test_actual_labels == y_test_pred_labels\n",
    "})\n",
    "print(results_df.head(10))"
   ]
  },
  {
   "cell_type": "markdown",
   "metadata": {},
   "source": [
    "Save the trained weights so you dont have to train the model again and again."
   ]
  },
  {
   "cell_type": "code",
   "execution_count": 26,
   "metadata": {},
   "outputs": [],
   "source": [
    "np.savez('perceptron_model_weights.npz', weights=weights, bias=bias)"
   ]
  }
 ],
 "metadata": {
  "kernelspec": {
   "display_name": "Python 3",
   "language": "python",
   "name": "python3"
  },
  "language_info": {
   "codemirror_mode": {
    "name": "ipython",
    "version": 3
   },
   "file_extension": ".py",
   "mimetype": "text/x-python",
   "name": "python",
   "nbconvert_exporter": "python",
   "pygments_lexer": "ipython3",
   "version": "3.11.6"
  }
 },
 "nbformat": 4,
 "nbformat_minor": 2
}
