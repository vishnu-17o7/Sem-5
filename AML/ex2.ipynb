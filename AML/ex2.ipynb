{
 "cells": [
  {
   "cell_type": "code",
   "execution_count": 2,
   "metadata": {},
   "outputs": [],
   "source": [
    "import numpy as np\n",
    "from sklearn.metrics import accuracy_score, precision_score, recall_score, f1_score\n",
    "from sklearn.tree import DecisionTreeClassifier\n",
    "from sklearn.datasets import load_iris"
   ]
  },
  {
   "cell_type": "code",
   "execution_count": 8,
   "metadata": {},
   "outputs": [],
   "source": [
    "def k_fold_cv(model, X, y, k):\n",
    "\n",
    "    accuracies = []\n",
    "    precisions = []\n",
    "    recalls = []\n",
    "    f1_scores = []\n",
    "\n",
    "    indices = np.arange(len(y))\n",
    "    np.random.shuffle(indices)\n",
    "    X = X[indices]\n",
    "    y = y[indices]\n",
    "\n",
    "    fold_length = len(y) // k\n",
    "    for i in range(k):\n",
    "        start = i * fold_length\n",
    "        end = start + fold_length if i != k - 1 else len(y)\n",
    "        test_data = np.arange(start, end)\n",
    "        train_data = np.concatenate((np.arange(0, start), np.arange(end, len(y))))\n",
    "\n",
    "        X_train, X_test = X[train_data], X[test_data]\n",
    "        y_train, y_test = y[train_data], y[test_data]\n",
    "\n",
    "        model.fit(X_train, y_train)\n",
    "\n",
    "        y_pred = model.predict(X_test)\n",
    "\n",
    "        accuracies.append(accuracy_score(y_test, y_pred))\n",
    "        precisions.append(precision_score(y_test, y_pred, average='weighted'))\n",
    "        recalls.append(recall_score(y_test, y_pred, average='weighted'))\n",
    "        f1_scores.append(f1_score(y_test, y_pred, average='weighted'))\n",
    "\n",
    "    metrics = {\n",
    "        'Accuracy': (np.mean(accuracies), np.std(accuracies)),\n",
    "        'Precision': (np.mean(precisions), np.std(precisions)),\n",
    "        'Recall': (np.mean(recalls), np.std(recalls)),\n",
    "        'F1 Score': (np.mean(f1_scores), np.std(f1_scores))\n",
    "    }\n",
    "\n",
    "    return metrics"
   ]
  },
  {
   "cell_type": "code",
   "execution_count": 4,
   "metadata": {},
   "outputs": [
    {
     "data": {
      "text/plain": [
       "(150, 4)"
      ]
     },
     "execution_count": 4,
     "metadata": {},
     "output_type": "execute_result"
    }
   ],
   "source": [
    "iris = load_iris()\n",
    "X = iris.data\n",
    "y = iris.target\n",
    "X.shape"
   ]
  },
  {
   "cell_type": "code",
   "execution_count": 5,
   "metadata": {},
   "outputs": [
    {
     "name": "stdout",
     "output_type": "stream",
     "text": [
      "0\n",
      "1\n",
      "2\n",
      "3\n",
      "4\n",
      "5\n",
      "6\n",
      "7\n",
      "8\n",
      "9\n"
     ]
    }
   ],
   "source": [
    "model = DecisionTreeClassifier(random_state=42)\n",
    "\n",
    "k = 10\n",
    "\n",
    "metrics = k_fold_cv(model, X, y, k)"
   ]
  },
  {
   "cell_type": "code",
   "execution_count": 6,
   "metadata": {},
   "outputs": [
    {
     "name": "stdout",
     "output_type": "stream",
     "text": [
      "Before Validation :1.0\n"
     ]
    }
   ],
   "source": [
    "model.fit(X, y)\n",
    "y_pred = model.predict(X)\n",
    "print(f\"Before Validation :{accuracy_score(y, y_pred)}\")"
   ]
  },
  {
   "cell_type": "code",
   "execution_count": 7,
   "metadata": {},
   "outputs": [
    {
     "name": "stdout",
     "output_type": "stream",
     "text": [
      "After Cross Validation :{'Accuracy': (0.9333333333333333, 0.06666666666666665), 'Precision': (0.9423015873015872, 0.06306208572976764), 'Recall': (0.9333333333333333, 0.06666666666666665), 'F1 Score': (0.9334955414955415, 0.06700392122056115)}\n"
     ]
    }
   ],
   "source": [
    "print(f\"After Cross Validation :{metrics}\")"
   ]
  }
 ],
 "metadata": {
  "kernelspec": {
   "display_name": "Python 3",
   "language": "python",
   "name": "python3"
  },
  "language_info": {
   "codemirror_mode": {
    "name": "ipython",
    "version": 3
   },
   "file_extension": ".py",
   "mimetype": "text/x-python",
   "name": "python",
   "nbconvert_exporter": "python",
   "pygments_lexer": "ipython3",
   "version": "3.11.6"
  }
 },
 "nbformat": 4,
 "nbformat_minor": 2
}
