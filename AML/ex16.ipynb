{
 "cells": [
  {
   "cell_type": "code",
   "execution_count": 1,
   "metadata": {},
   "outputs": [],
   "source": [
    "import numpy as np\n",
    "import tensorflow as tf"
   ]
  },
  {
   "cell_type": "code",
   "execution_count": 3,
   "metadata": {},
   "outputs": [],
   "source": [
    "model = tf.keras.Sequential([\n",
    "    tf.keras.layers.Dense(2, input_shape=(2,), activation='sigmoid', kernel_initializer=tf.keras.initializers.Constant(0.1)),\n",
    "    tf.keras.layers.Dense(1, activation='sigmoid', kernel_initializer=tf.keras.initializers.Constant(0.1))\n",
    "])\n",
    "\n",
    "model.compile(optimizer=tf.keras.optimizers.SGD(learning_rate=1.0), loss='mean_squared_error')"
   ]
  },
  {
   "cell_type": "code",
   "execution_count": 4,
   "metadata": {},
   "outputs": [],
   "source": [
    "X = np.array([[0, 0], [0, 1], [1, 0], [1, 1]], dtype=np.float32)  # Inputs\n",
    "y = np.array([[0], [1], [1], [0]], dtype=np.float32)  # Outputs"
   ]
  },
  {
   "cell_type": "code",
   "execution_count": 5,
   "metadata": {},
   "outputs": [
    {
     "data": {
      "text/plain": [
       "<keras.src.callbacks.history.History at 0x2bcd563ce90>"
      ]
     },
     "execution_count": 5,
     "metadata": {},
     "output_type": "execute_result"
    }
   ],
   "source": [
    "model.fit(X, y, epochs=10, verbose=0)"
   ]
  },
  {
   "cell_type": "code",
   "execution_count": 6,
   "metadata": {},
   "outputs": [
    {
     "name": "stdout",
     "output_type": "stream",
     "text": [
      "\u001b[1m1/1\u001b[0m \u001b[32m━━━━━━━━━━━━━━━━━━━━\u001b[0m\u001b[37m\u001b[0m \u001b[1m0s\u001b[0m 84ms/step\n"
     ]
    }
   ],
   "source": [
    "predictions = model.predict(X)"
   ]
  },
  {
   "cell_type": "code",
   "execution_count": 7,
   "metadata": {},
   "outputs": [
    {
     "name": "stdout",
     "output_type": "stream",
     "text": [
      "Input: [0. 0.] -> Predicted Output: [0.5021983]\n",
      "Input: [0. 1.] -> Predicted Output: [0.5030506]\n",
      "Input: [1. 0.] -> Predicted Output: [0.5030506]\n",
      "Input: [1. 1.] -> Predicted Output: [0.50389886]\n"
     ]
    }
   ],
   "source": [
    "for i in range(len(X)):\n",
    "    print(f\"Input: {X[i]} -> Predicted Output: {predictions[i]}\")"
   ]
  },
  {
   "cell_type": "code",
   "execution_count": 7,
   "metadata": {},
   "outputs": [
    {
     "name": "stdout",
     "output_type": "stream",
     "text": [
      "Final weights from input to hidden layer:\n",
      " [[ 0.15234044  1.76488097 -5.17655762 -4.74645454]\n",
      " [ 1.20725207 -4.39391314 -5.06147137  2.00751929]]\n",
      "Final weights from hidden to output layer:\n",
      " [[-2.96696193]\n",
      " [ 4.19063353]\n",
      " [-9.70876141]\n",
      " [ 4.75087926]]\n",
      "Input: [0 0] -> Predicted Output: [[0.13387702]] -> Binary Output: 0\n",
      "Input: [0 1] -> Predicted Output: [[0.86924496]] -> Binary Output: 1\n",
      "Input: [1 0] -> Predicted Output: [[0.87741323]] -> Binary Output: 1\n",
      "Input: [1 1] -> Predicted Output: [[0.14298804]] -> Binary Output: 0\n",
      "Final Accuracy: 100.0%\n"
     ]
    }
   ],
   "source": [
    "import numpy as np\n",
    "\n",
    "def sigmoid(x):\n",
    "    return 1 / (1 + np.exp(-x))\n",
    "\n",
    "def sigmoid_derivative(x):\n",
    "    return x * (1 - x)\n",
    "\n",
    "input_layer_size = 2\n",
    "hidden_layer_size = 4 \n",
    "output_layer_size = 1\n",
    "learning_rate = 0.05 \n",
    "\n",
    "weights_input_hidden = np.random.rand(input_layer_size, hidden_layer_size) - 0.5\n",
    "weights_hidden_output = np.random.rand(hidden_layer_size, output_layer_size) - 0.5\n",
    "\n",
    "X = np.array([[0, 0], [0, 1], [1, 0], [1, 1]])\n",
    "y = np.array([[0], [1], [1], [0]])\n",
    "\n",
    "epochs = 20000  \n",
    "\n",
    "for epoch in range(epochs):\n",
    "    for i in range(len(X)):\n",
    "        input_layer = X[i].reshape(1, -1)\n",
    "        hidden_layer_input = np.dot(input_layer, weights_input_hidden)\n",
    "        hidden_layer_output = sigmoid(hidden_layer_input)\n",
    "\n",
    "        output_layer_input = np.dot(hidden_layer_output, weights_hidden_output)\n",
    "        predicted_output = sigmoid(output_layer_input)\n",
    "\n",
    "        error = y[i] - predicted_output\n",
    "\n",
    "        d_predicted_output = error * sigmoid_derivative(predicted_output)\n",
    "        \n",
    "        error_hidden_layer = d_predicted_output.dot(weights_hidden_output.T)\n",
    "        d_hidden_layer_output = error_hidden_layer * sigmoid_derivative(hidden_layer_output)\n",
    "\n",
    "        weights_hidden_output += hidden_layer_output.T.dot(d_predicted_output) * learning_rate\n",
    "        weights_input_hidden += input_layer.T.dot(d_hidden_layer_output) * learning_rate\n",
    "\n",
    "print(\"Final weights from input to hidden layer:\\n\", weights_input_hidden)\n",
    "print(\"Final weights from hidden to output layer:\\n\", weights_hidden_output)\n",
    "\n",
    "correct_predictions = 0\n",
    "\n",
    "for i in range(len(X)):\n",
    "    input_layer = X[i].reshape(1, -1)\n",
    "    hidden_layer_output = sigmoid(np.dot(input_layer, weights_input_hidden))\n",
    "    predicted_output = sigmoid(np.dot(hidden_layer_output, weights_hidden_output))\n",
    "    \n",
    "    predicted_binary = 1 if predicted_output > 0.5 else 0\n",
    "    print(f\"Input: {X[i]} -> Predicted Output: {predicted_output} -> Binary Output: {predicted_binary}\")\n",
    "    \n",
    "    if predicted_binary == y[i][0]:\n",
    "        correct_predictions += 1\n",
    "\n",
    "accuracy = (correct_predictions / len(X)) * 100\n",
    "print(f\"Final Accuracy: {accuracy}%\")\n"
   ]
  }
 ],
 "metadata": {
  "kernelspec": {
   "display_name": "Python 3",
   "language": "python",
   "name": "python3"
  },
  "language_info": {
   "codemirror_mode": {
    "name": "ipython",
    "version": 3
   },
   "file_extension": ".py",
   "mimetype": "text/x-python",
   "name": "python",
   "nbconvert_exporter": "python",
   "pygments_lexer": "ipython3",
   "version": "3.11.6"
  }
 },
 "nbformat": 4,
 "nbformat_minor": 2
}
