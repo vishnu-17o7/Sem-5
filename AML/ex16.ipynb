{
 "cells": [
  {
   "cell_type": "code",
   "execution_count": 1,
   "metadata": {},
   "outputs": [],
   "source": [
    "import numpy as np\n",
    "import tensorflow as tf"
   ]
  },
  {
   "cell_type": "code",
   "execution_count": 3,
   "metadata": {},
   "outputs": [],
   "source": [
    "model = tf.keras.Sequential([\n",
    "    tf.keras.layers.Dense(2, input_shape=(2,), activation='sigmoid', kernel_initializer=tf.keras.initializers.Constant(0.1)),\n",
    "    tf.keras.layers.Dense(1, activation='sigmoid', kernel_initializer=tf.keras.initializers.Constant(0.1))\n",
    "])\n",
    "\n",
    "model.compile(optimizer=tf.keras.optimizers.SGD(learning_rate=1.0), loss='mean_squared_error')"
   ]
  },
  {
   "cell_type": "code",
   "execution_count": 4,
   "metadata": {},
   "outputs": [],
   "source": [
    "# Sample input and output (XOR problem as an example)\n",
    "X = np.array([[0, 0], [0, 1], [1, 0], [1, 1]], dtype=np.float32)  # Inputs\n",
    "y = np.array([[0], [1], [1], [0]], dtype=np.float32)  # Outputs"
   ]
  },
  {
   "cell_type": "code",
   "execution_count": 5,
   "metadata": {},
   "outputs": [
    {
     "data": {
      "text/plain": [
       "<keras.src.callbacks.history.History at 0x2bcd563ce90>"
      ]
     },
     "execution_count": 5,
     "metadata": {},
     "output_type": "execute_result"
    }
   ],
   "source": [
    "model.fit(X, y, epochs=10, verbose=0)"
   ]
  },
  {
   "cell_type": "code",
   "execution_count": 6,
   "metadata": {},
   "outputs": [
    {
     "name": "stdout",
     "output_type": "stream",
     "text": [
      "\u001b[1m1/1\u001b[0m \u001b[32m━━━━━━━━━━━━━━━━━━━━\u001b[0m\u001b[37m\u001b[0m \u001b[1m0s\u001b[0m 84ms/step\n"
     ]
    }
   ],
   "source": [
    "predictions = model.predict(X)"
   ]
  },
  {
   "cell_type": "code",
   "execution_count": 7,
   "metadata": {},
   "outputs": [
    {
     "name": "stdout",
     "output_type": "stream",
     "text": [
      "Input: [0. 0.] -> Predicted Output: [0.5021983]\n",
      "Input: [0. 1.] -> Predicted Output: [0.5030506]\n",
      "Input: [1. 0.] -> Predicted Output: [0.5030506]\n",
      "Input: [1. 1.] -> Predicted Output: [0.50389886]\n"
     ]
    }
   ],
   "source": [
    "for i in range(len(X)):\n",
    "    print(f\"Input: {X[i]} -> Predicted Output: {predictions[i]}\")"
   ]
  },
  {
   "cell_type": "code",
   "execution_count": 10,
   "metadata": {},
   "outputs": [
    {
     "name": "stdout",
     "output_type": "stream",
     "text": [
      "Final weights from input to hidden layer:\n",
      " [[-8.33281602 -8.33281602]\n",
      " [-8.33334893 -8.33334893]]\n",
      "Final weights from hidden to output layer:\n",
      " [[-4.14170511]\n",
      " [-4.14170511]]\n",
      "Input: [0 0] -> Predicted Output: [[0.015647]]\n",
      "Input: [0 1] -> Predicted Output: [[0.49950236]]\n",
      "Input: [1 0] -> Predicted Output: [[0.49950209]]\n",
      "Input: [1 1] -> Predicted Output: [[0.49999988]]\n"
     ]
    }
   ],
   "source": [
    "import numpy as np\n",
    "\n",
    "def sigmoid(x):\n",
    "    return 1 / (1 + np.exp(-x))\n",
    "\n",
    "def sigmoid_derivative(x):\n",
    "    return x * (1 - x)\n",
    "\n",
    "input_layer_size = 2\n",
    "hidden_layer_size = 2\n",
    "output_layer_size = 1\n",
    "learning_rate = 1\n",
    "\n",
    "weights_input_hidden = np.full((input_layer_size, hidden_layer_size), 0.1)\n",
    "weights_hidden_output = np.full((hidden_layer_size, output_layer_size), 0.1)\n",
    "\n",
    "X = np.array([[0, 0], [0, 1], [1, 0], [1, 1]])\n",
    "y = np.array([[0], [1], [1], [0]])\n",
    "\n",
    "epochs = 10000  \n",
    "for epoch in range(epochs):\n",
    "    for i in range(len(X)):\n",
    "        input_layer = X[i].reshape(1, -1)\n",
    "        hidden_layer_input = np.dot(input_layer, weights_input_hidden)\n",
    "        hidden_layer_output = sigmoid(hidden_layer_input)\n",
    "\n",
    "        output_layer_input = np.dot(hidden_layer_output, weights_hidden_output)\n",
    "        predicted_output = sigmoid(output_layer_input)\n",
    "\n",
    "        error = y[i] - predicted_output\n",
    "\n",
    "        d_predicted_output = error * sigmoid_derivative(predicted_output)\n",
    "        \n",
    "        error_hidden_layer = d_predicted_output.dot(weights_hidden_output.T)\n",
    "        d_hidden_layer_output = error_hidden_layer * sigmoid_derivative(hidden_layer_output)\n",
    "\n",
    "        weights_hidden_output += hidden_layer_output.T.dot(d_predicted_output) * learning_rate\n",
    "        weights_input_hidden += input_layer.T.dot(d_hidden_layer_output) * learning_rate\n",
    "\n",
    "print(\"Final weights from input to hidden layer:\\n\", weights_input_hidden)\n",
    "print(\"Final weights from hidden to output layer:\\n\", weights_hidden_output)\n",
    "\n",
    "for i in range(len(X)):\n",
    "    input_layer = X[i].reshape(1, -1)\n",
    "    hidden_layer_output = sigmoid(np.dot(input_layer, weights_input_hidden))\n",
    "    predicted_output = sigmoid(np.dot(hidden_layer_output, weights_hidden_output))\n",
    "    print(f\"Input: {X[i]} -> Predicted Output: {predicted_output}\")\n"
   ]
  }
 ],
 "metadata": {
  "kernelspec": {
   "display_name": "Python 3",
   "language": "python",
   "name": "python3"
  },
  "language_info": {
   "codemirror_mode": {
    "name": "ipython",
    "version": 3
   },
   "file_extension": ".py",
   "mimetype": "text/x-python",
   "name": "python",
   "nbconvert_exporter": "python",
   "pygments_lexer": "ipython3",
   "version": "3.11.6"
  }
 },
 "nbformat": 4,
 "nbformat_minor": 2
}
