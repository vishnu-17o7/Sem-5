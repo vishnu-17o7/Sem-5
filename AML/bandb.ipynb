{
 "cells": [
  {
   "cell_type": "code",
   "execution_count": 1,
   "metadata": {},
   "outputs": [
    {
     "name": "stdout",
     "output_type": "stream",
     "text": [
      "Bagging Predictions: [0 0 0 0 1 1 1 0 0 0 1 0 0 0 1 0 0 1 1 1]\n",
      "Bagging Accuracy: 0.8\n"
     ]
    }
   ],
   "source": [
    "import numpy as np\n",
    "from sklearn.tree import DecisionTreeClassifier\n",
    "from sklearn.datasets import make_classification\n",
    "from sklearn.model_selection import train_test_split\n",
    "\n",
    "# Function to create bootstrap samples\n",
    "def bootstrap_sample(X, y):\n",
    "    n_samples = X.shape[0]\n",
    "    indices = np.random.choice(n_samples, n_samples, replace=True)\n",
    "    return X[indices], y[indices]\n",
    "\n",
    "# Function to create a bagging ensemble using DecisionTreeClassifier\n",
    "def bagging(X, y, n_trees=10, max_depth=None, min_samples_split=2):\n",
    "    ensemble = []\n",
    "    for _ in range(n_trees):\n",
    "        X_sample, y_sample = bootstrap_sample(X, y)\n",
    "        tree = DecisionTreeClassifier(max_depth=max_depth, min_samples_split=min_samples_split)\n",
    "        tree.fit(X_sample, y_sample)\n",
    "        ensemble.append(tree)\n",
    "    return ensemble\n",
    "\n",
    "# Function to make predictions using the bagging ensemble\n",
    "def predict_bagging(ensemble, X):\n",
    "    # Get predictions from all trees\n",
    "    tree_predictions = np.array([tree.predict(X) for tree in ensemble])\n",
    "    # Take the majority vote across all trees\n",
    "    final_predictions = [np.bincount(tree_predictions[:, i]).argmax() for i in range(X.shape[0])]\n",
    "    return np.array(final_predictions)\n",
    "\n",
    "# Example dataset\n",
    "X, y = make_classification(n_samples=100, n_features=5, n_informative=3, n_redundant=0, random_state=42)\n",
    "X_train, X_test, y_train, y_test = train_test_split(X, y, test_size=0.2, random_state=42)\n",
    "\n",
    "# Train the bagging ensemble\n",
    "ensemble = bagging(X_train, y_train, n_trees=10, max_depth=5, min_samples_split=2)\n",
    "\n",
    "# Make predictions\n",
    "predictions = predict_bagging(ensemble, X_test)\n",
    "print(\"Bagging Predictions:\", predictions)\n",
    "\n",
    "# Calculate accuracy\n",
    "accuracy = np.mean(predictions == y_test)\n",
    "print(\"Bagging Accuracy:\", accuracy)\n"
   ]
  },
  {
   "cell_type": "code",
   "execution_count": 2,
   "metadata": {},
   "outputs": [
    {
     "name": "stdout",
     "output_type": "stream",
     "text": [
      "Boosting Predictions: [1 1 0 1 1 1 1 1 1 1 1 1 1 1 1 1 1 1 1 1]\n",
      "Boosting Accuracy: 0.55\n"
     ]
    }
   ],
   "source": [
    "import numpy as np\n",
    "from sklearn.tree import DecisionTreeClassifier\n",
    "from sklearn.datasets import make_classification\n",
    "from sklearn.model_selection import train_test_split\n",
    "\n",
    "# Function to implement boosting using DecisionTreeClassifier\n",
    "def boosting(X, y, n_classifiers=10, max_depth=1):\n",
    "    n_samples = X.shape[0]\n",
    "    # Initialize weights equally for all samples\n",
    "    sample_weights = np.ones(n_samples) / n_samples\n",
    "    classifiers = []\n",
    "    classifier_weights = []\n",
    "\n",
    "    for _ in range(n_classifiers):\n",
    "        # Train a weak learner (stump) on weighted samples\n",
    "        tree = DecisionTreeClassifier(max_depth=max_depth)\n",
    "        tree.fit(X, y, sample_weight=sample_weights)\n",
    "        predictions = tree.predict(X)\n",
    "\n",
    "        # Calculate error rate\n",
    "        incorrect = (predictions != y)\n",
    "        error = np.dot(sample_weights, incorrect) / np.sum(sample_weights)\n",
    "\n",
    "        # Calculate classifier weight (alpha)\n",
    "        alpha = np.log((1 - error) / (error + 1e-10)) / 2\n",
    "\n",
    "        # Update sample weights\n",
    "        sample_weights *= np.exp(alpha * incorrect)\n",
    "        sample_weights /= np.sum(sample_weights)  # Normalize\n",
    "\n",
    "        # Store classifier and its weight\n",
    "        classifiers.append(tree)\n",
    "        classifier_weights.append(alpha)\n",
    "\n",
    "    return classifiers, classifier_weights\n",
    "\n",
    "# Function to make predictions using the boosting ensemble\n",
    "def predict_boosting(classifiers, classifier_weights, X):\n",
    "    # Get weighted predictions from all classifiers\n",
    "    classifier_predictions = np.array([alpha * clf.predict(X) for clf, alpha in zip(classifiers, classifier_weights)])\n",
    "    # Combine the predictions by taking the sign (majority vote)\n",
    "    final_predictions = np.sign(np.sum(classifier_predictions, axis=0))\n",
    "    return np.array([1 if pred > 0 else 0 for pred in final_predictions])\n",
    "\n",
    "# Example dataset\n",
    "X, y = make_classification(n_samples=100, n_features=5, n_informative=3, n_redundant=0, random_state=42)\n",
    "X_train, X_test, y_train, y_test = train_test_split(X, y, test_size=0.2, random_state=42)\n",
    "\n",
    "# Train the boosting ensemble\n",
    "classifiers, classifier_weights = boosting(X_train, y_train, n_classifiers=10, max_depth=1)\n",
    "\n",
    "# Make predictions\n",
    "predictions = predict_boosting(classifiers, classifier_weights, X_test)\n",
    "print(\"Boosting Predictions:\", predictions)\n",
    "\n",
    "# Calculate accuracy\n",
    "accuracy = np.mean(predictions == y_test)\n",
    "print(\"Boosting Accuracy:\", accuracy)\n"
   ]
  }
 ],
 "metadata": {
  "kernelspec": {
   "display_name": "Python 3",
   "language": "python",
   "name": "python3"
  },
  "language_info": {
   "codemirror_mode": {
    "name": "ipython",
    "version": 3
   },
   "file_extension": ".py",
   "mimetype": "text/x-python",
   "name": "python",
   "nbconvert_exporter": "python",
   "pygments_lexer": "ipython3",
   "version": "3.11.6"
  }
 },
 "nbformat": 4,
 "nbformat_minor": 2
}
