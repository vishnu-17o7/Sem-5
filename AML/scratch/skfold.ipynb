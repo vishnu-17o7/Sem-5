{
 "cells": [
  {
   "cell_type": "code",
   "execution_count": 1,
   "metadata": {},
   "outputs": [
    {
     "name": "stdout",
     "output_type": "stream",
     "text": [
      "Fold 1:\n",
      "  Train class distribution: [33 33]\n",
      "  Test class distribution: [17 17]\n",
      "\n",
      "Fold 2:\n",
      "  Train class distribution: [33 33]\n",
      "  Test class distribution: [17 17]\n",
      "\n",
      "Fold 3:\n",
      "  Train class distribution: [34 34]\n",
      "  Test class distribution: [16 16]\n",
      "\n"
     ]
    }
   ],
   "source": [
    "import numpy as np\n",
    "from sklearn.datasets import load_iris\n",
    "from sklearn.model_selection import train_test_split\n",
    "\n",
    "def stratified_kfold(X, y, n_splits=5, random_state=None):\n",
    "    np.random.seed(random_state)\n",
    "    unique_classes, class_counts = np.unique(y, return_counts=True)\n",
    "    folds = [[] for _ in range(n_splits)]\n",
    "\n",
    "    for cls in unique_classes:\n",
    "        cls_indices = np.where(y == cls)[0]\n",
    "        np.random.shuffle(cls_indices)\n",
    "        cls_folds = np.array_split(cls_indices, n_splits)\n",
    "        \n",
    "        for i in range(n_splits):\n",
    "            folds[i].extend(cls_folds[i])\n",
    "    \n",
    "    return [(np.array(folds[i]), np.concatenate([np.array(folds[j]) for j in range(n_splits) if j != i])) for i in range(n_splits)]\n",
    "\n",
    "# Load a sample dataset (Iris dataset)\n",
    "data = load_iris()\n",
    "X = data.data\n",
    "y = data.target\n",
    "\n",
    "# For simplicity, let's do stratified k-fold with binary classification (class 0 vs. class 1)\n",
    "X = X[y != 2]  # Remove class 2\n",
    "y = y[y != 2]  # Remove class 2\n",
    "\n",
    "# Apply Stratified K-Fold Cross-Validation\n",
    "n_splits = 3\n",
    "folds = stratified_kfold(X, y, n_splits=n_splits, random_state=42)\n",
    "\n",
    "# Example Usage\n",
    "for i, (test_idx, train_idx) in enumerate(folds):\n",
    "    X_train, X_test = X[train_idx], X[test_idx]\n",
    "    y_train, y_test = y[train_idx], y[test_idx]\n",
    "    \n",
    "    print(f\"Fold {i+1}:\")\n",
    "    print(f\"  Train class distribution: {np.bincount(y_train)}\")\n",
    "    print(f\"  Test class distribution: {np.bincount(y_test)}\\n\")\n"
   ]
  }
 ],
 "metadata": {
  "kernelspec": {
   "display_name": "Python 3",
   "language": "python",
   "name": "python3"
  },
  "language_info": {
   "codemirror_mode": {
    "name": "ipython",
    "version": 3
   },
   "file_extension": ".py",
   "mimetype": "text/x-python",
   "name": "python",
   "nbconvert_exporter": "python",
   "pygments_lexer": "ipython3",
   "version": "3.11.6"
  }
 },
 "nbformat": 4,
 "nbformat_minor": 2
}
