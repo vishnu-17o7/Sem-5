{
 "cells": [
  {
   "cell_type": "code",
   "execution_count": 16,
   "metadata": {},
   "outputs": [
    {
     "name": "stdout",
     "output_type": "stream",
     "text": [
      "Manual Logistic Regression Accuracy: 1.00\n"
     ]
    }
   ],
   "source": [
    "import numpy as np\n",
    "from sklearn.datasets import load_iris\n",
    "from sklearn.model_selection import train_test_split\n",
    "from sklearn.preprocessing import StandardScaler\n",
    "\n",
    "# PCA Implementation from Scratch\n",
    "def pca(X, n_components):\n",
    "    X = StandardScaler().fit_transform(X)  # Standardize the data\n",
    "    covariance_matrix = np.cov(X.T)\n",
    "    eigenvalues, eigenvectors = np.linalg.eig(covariance_matrix)\n",
    "    sorted_indices = np.argsort(eigenvalues)[::-1]\n",
    "    selected_eigenvectors = eigenvectors[:, sorted_indices][:, :n_components]\n",
    "    X_reduced = np.dot(X, selected_eigenvectors)\n",
    "    return X_reduced\n",
    "\n",
    "# Sigmoid function\n",
    "def sigmoid(z):\n",
    "    return 1 / (1 + np.exp(-z))\n",
    "\n",
    "# Logistic Regression from scratch\n",
    "def logistic_regression(X, y, learning_rate=0.01, n_iterations=1000):\n",
    "    n_samples, n_features = X.shape\n",
    "    weights = np.zeros(n_features)\n",
    "    bias = 0\n",
    "    \n",
    "    for _ in range(n_iterations):\n",
    "        # Linear model\n",
    "        linear_model = np.dot(X, weights) + bias\n",
    "        y_predicted = sigmoid(linear_model)\n",
    "        \n",
    "        # Compute gradients\n",
    "        dw = (1 / n_samples) * np.dot(X.T, (y_predicted - y))\n",
    "        db = (1 / n_samples) * np.sum(y_predicted - y)\n",
    "        \n",
    "        # Update weights and bias\n",
    "        weights -= learning_rate * dw\n",
    "        bias -= learning_rate * db\n",
    "    \n",
    "    return weights, bias\n",
    "\n",
    "# Predict function\n",
    "def predict(X, weights, bias):\n",
    "    linear_model = np.dot(X, weights) + bias\n",
    "    y_predicted = sigmoid(linear_model)\n",
    "    y_predicted_labels = [1 if i > 0.5 else 0 for i in y_predicted]\n",
    "    return np.array(y_predicted_labels)\n",
    "\n",
    "# Load the Iris dataset\n",
    "data = load_iris()\n",
    "X = data.data\n",
    "y = data.target\n",
    "\n",
    "# For simplicity, consider only binary classification (class 0 vs. class 1)\n",
    "X = X[y != 2]  # Remove class 2\n",
    "y = y[y != 2]  # Remove class 2\n",
    "\n",
    "# Split the dataset\n",
    "X_train, X_test, y_train, y_test = train_test_split(X, y, test_size=0.3, random_state=42)\n",
    "\n",
    "# Apply PCA (reduce to 2 components)\n",
    "X_train_pca = pca(X_train, n_components=2)\n",
    "X_test_pca = pca(X_test, n_components=2)\n",
    "\n",
    "# Train Logistic Regression\n",
    "weights, bias = logistic_regression(X_train_pca, y_train, learning_rate=0.01, n_iterations=1000)\n",
    "\n",
    "# Make predictions\n",
    "y_pred = predict(X_test_pca, weights, bias)\n",
    "\n",
    "# Evaluate the model\n",
    "accuracy = np.mean(y_pred == y_test)\n",
    "print(f\"Manual Logistic Regression Accuracy: {accuracy:.2f}\")\n",
    "\n"
   ]
  }
 ],
 "metadata": {
  "kernelspec": {
   "display_name": "Python 3",
   "language": "python",
   "name": "python3"
  },
  "language_info": {
   "codemirror_mode": {
    "name": "ipython",
    "version": 3
   },
   "file_extension": ".py",
   "mimetype": "text/x-python",
   "name": "python",
   "nbconvert_exporter": "python",
   "pygments_lexer": "ipython3",
   "version": "3.11.6"
  }
 },
 "nbformat": 4,
 "nbformat_minor": 2
}
