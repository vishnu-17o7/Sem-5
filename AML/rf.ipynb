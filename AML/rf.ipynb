{
 "cells": [
  {
   "cell_type": "code",
   "execution_count": 1,
   "metadata": {},
   "outputs": [
    {
     "name": "stdout",
     "output_type": "stream",
     "text": [
      "Predictions: [0 0 0 0 1 1 1 0 0 0 1 0 0 0 1 0 0 1 1 1]\n",
      "Accuracy: 0.8\n"
     ]
    }
   ],
   "source": [
    "import numpy as np\n",
    "from sklearn.tree import DecisionTreeClassifier\n",
    "from sklearn.datasets import make_classification\n",
    "from sklearn.model_selection import train_test_split\n",
    "\n",
    "# Function to create bootstrap samples\n",
    "def bootstrap_sample(X, y):\n",
    "    n_samples = X.shape[0]\n",
    "    indices = np.random.choice(n_samples, n_samples, replace=True)\n",
    "    return X[indices], y[indices]\n",
    "\n",
    "# Function to create a random forest using DecisionTreeClassifier\n",
    "def random_forest(X, y, n_trees=10, max_depth=None, min_samples_split=2):\n",
    "    forest = []\n",
    "    for _ in range(n_trees):\n",
    "        X_sample, y_sample = bootstrap_sample(X, y)\n",
    "        tree = DecisionTreeClassifier(max_depth=max_depth, min_samples_split=min_samples_split)\n",
    "        tree.fit(X_sample, y_sample)\n",
    "        forest.append(tree)\n",
    "    return forest\n",
    "\n",
    "# Function to make predictions using the random forest\n",
    "def predict_forest(forest, X):\n",
    "    # Get predictions from all trees\n",
    "    tree_predictions = np.array([tree.predict(X) for tree in forest])\n",
    "    # Take the majority vote across all trees\n",
    "    final_predictions = [np.bincount(tree_predictions[:, i]).argmax() for i in range(X.shape[0])]\n",
    "    return np.array(final_predictions)\n",
    "\n",
    "# Example dataset\n",
    "X, y = make_classification(n_samples=100, n_features=5, n_informative=3, n_redundant=0, random_state=42)\n",
    "X_train, X_test, y_train, y_test = train_test_split(X, y, test_size=0.2, random_state=42)\n",
    "\n",
    "# Train the random forest\n",
    "forest = random_forest(X_train, y_train, n_trees=10, max_depth=5, min_samples_split=2)\n",
    "\n",
    "# Make predictions\n",
    "predictions = predict_forest(forest, X_test)\n",
    "print(\"Predictions:\", predictions)\n",
    "\n",
    "# Calculate accuracy\n",
    "accuracy = np.mean(predictions == y_test)\n",
    "print(\"Accuracy:\", accuracy)\n"
   ]
  }
 ],
 "metadata": {
  "kernelspec": {
   "display_name": "Python 3",
   "language": "python",
   "name": "python3"
  },
  "language_info": {
   "codemirror_mode": {
    "name": "ipython",
    "version": 3
   },
   "file_extension": ".py",
   "mimetype": "text/x-python",
   "name": "python",
   "nbconvert_exporter": "python",
   "pygments_lexer": "ipython3",
   "version": "3.11.6"
  }
 },
 "nbformat": 4,
 "nbformat_minor": 2
}
