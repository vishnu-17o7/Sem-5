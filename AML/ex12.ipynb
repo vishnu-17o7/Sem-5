{
 "cells": [
  {
   "cell_type": "code",
   "execution_count": 1,
   "metadata": {},
   "outputs": [],
   "source": [
    "from ucimlrepo import fetch_ucirepo\n",
    "import pandas as pd\n",
    "from sklearn.model_selection import train_test_split, GridSearchCV, RandomizedSearchCV\n",
    "from sklearn.preprocessing import StandardScaler\n",
    "from sklearn.ensemble import RandomForestClassifier\n",
    "from sklearn.svm import SVC\n",
    "from sklearn.metrics import accuracy_score"
   ]
  },
  {
   "cell_type": "code",
   "execution_count": 2,
   "metadata": {},
   "outputs": [
    {
     "name": "stdout",
     "output_type": "stream",
     "text": [
      "age         0\n",
      "sex         0\n",
      "cp          0\n",
      "trestbps    0\n",
      "chol        0\n",
      "fbs         0\n",
      "restecg     0\n",
      "thalach     0\n",
      "exang       0\n",
      "oldpeak     0\n",
      "slope       0\n",
      "ca          4\n",
      "thal        2\n",
      "num         0\n",
      "dtype: int64\n"
     ]
    }
   ],
   "source": [
    "heart_disease = fetch_ucirepo(id=45) \n",
    "  \n",
    "X = heart_disease.data.features \n",
    "y = heart_disease.data.targets \n",
    "  \n",
    "# print(heart_disease.metadata) \n",
    "# print(heart_disease.variables) \n",
    "\n",
    "data = pd.DataFrame(X).join(pd.DataFrame(y))\n",
    "\n",
    "print(data.isnull().sum())"
   ]
  },
  {
   "cell_type": "code",
   "execution_count": 3,
   "metadata": {},
   "outputs": [
    {
     "name": "stdout",
     "output_type": "stream",
     "text": [
      "age         0\n",
      "sex         0\n",
      "cp          0\n",
      "trestbps    0\n",
      "chol        0\n",
      "fbs         0\n",
      "restecg     0\n",
      "thalach     0\n",
      "exang       0\n",
      "oldpeak     0\n",
      "slope       0\n",
      "ca          0\n",
      "thal        0\n",
      "num         0\n",
      "dtype: int64\n"
     ]
    }
   ],
   "source": [
    "data.dropna(inplace=True)\n",
    "\n",
    "print(data.isnull().sum())"
   ]
  },
  {
   "cell_type": "code",
   "execution_count": 4,
   "metadata": {},
   "outputs": [
    {
     "data": {
      "text/html": [
       "<div>\n",
       "<style scoped>\n",
       "    .dataframe tbody tr th:only-of-type {\n",
       "        vertical-align: middle;\n",
       "    }\n",
       "\n",
       "    .dataframe tbody tr th {\n",
       "        vertical-align: top;\n",
       "    }\n",
       "\n",
       "    .dataframe thead th {\n",
       "        text-align: right;\n",
       "    }\n",
       "</style>\n",
       "<table border=\"1\" class=\"dataframe\">\n",
       "  <thead>\n",
       "    <tr style=\"text-align: right;\">\n",
       "      <th></th>\n",
       "      <th>age</th>\n",
       "      <th>sex</th>\n",
       "      <th>cp</th>\n",
       "      <th>trestbps</th>\n",
       "      <th>chol</th>\n",
       "      <th>fbs</th>\n",
       "      <th>restecg</th>\n",
       "      <th>thalach</th>\n",
       "      <th>exang</th>\n",
       "      <th>oldpeak</th>\n",
       "      <th>slope</th>\n",
       "      <th>ca</th>\n",
       "      <th>thal</th>\n",
       "      <th>num</th>\n",
       "    </tr>\n",
       "  </thead>\n",
       "  <tbody>\n",
       "    <tr>\n",
       "      <th>0</th>\n",
       "      <td>63</td>\n",
       "      <td>1</td>\n",
       "      <td>1</td>\n",
       "      <td>145</td>\n",
       "      <td>233</td>\n",
       "      <td>1</td>\n",
       "      <td>2</td>\n",
       "      <td>150</td>\n",
       "      <td>0</td>\n",
       "      <td>2.3</td>\n",
       "      <td>3</td>\n",
       "      <td>0.0</td>\n",
       "      <td>6.0</td>\n",
       "      <td>0</td>\n",
       "    </tr>\n",
       "    <tr>\n",
       "      <th>1</th>\n",
       "      <td>67</td>\n",
       "      <td>1</td>\n",
       "      <td>4</td>\n",
       "      <td>160</td>\n",
       "      <td>286</td>\n",
       "      <td>0</td>\n",
       "      <td>2</td>\n",
       "      <td>108</td>\n",
       "      <td>1</td>\n",
       "      <td>1.5</td>\n",
       "      <td>2</td>\n",
       "      <td>3.0</td>\n",
       "      <td>3.0</td>\n",
       "      <td>2</td>\n",
       "    </tr>\n",
       "    <tr>\n",
       "      <th>2</th>\n",
       "      <td>67</td>\n",
       "      <td>1</td>\n",
       "      <td>4</td>\n",
       "      <td>120</td>\n",
       "      <td>229</td>\n",
       "      <td>0</td>\n",
       "      <td>2</td>\n",
       "      <td>129</td>\n",
       "      <td>1</td>\n",
       "      <td>2.6</td>\n",
       "      <td>2</td>\n",
       "      <td>2.0</td>\n",
       "      <td>7.0</td>\n",
       "      <td>1</td>\n",
       "    </tr>\n",
       "    <tr>\n",
       "      <th>3</th>\n",
       "      <td>37</td>\n",
       "      <td>1</td>\n",
       "      <td>3</td>\n",
       "      <td>130</td>\n",
       "      <td>250</td>\n",
       "      <td>0</td>\n",
       "      <td>0</td>\n",
       "      <td>187</td>\n",
       "      <td>0</td>\n",
       "      <td>3.5</td>\n",
       "      <td>3</td>\n",
       "      <td>0.0</td>\n",
       "      <td>3.0</td>\n",
       "      <td>0</td>\n",
       "    </tr>\n",
       "    <tr>\n",
       "      <th>4</th>\n",
       "      <td>41</td>\n",
       "      <td>0</td>\n",
       "      <td>2</td>\n",
       "      <td>130</td>\n",
       "      <td>204</td>\n",
       "      <td>0</td>\n",
       "      <td>2</td>\n",
       "      <td>172</td>\n",
       "      <td>0</td>\n",
       "      <td>1.4</td>\n",
       "      <td>1</td>\n",
       "      <td>0.0</td>\n",
       "      <td>3.0</td>\n",
       "      <td>0</td>\n",
       "    </tr>\n",
       "  </tbody>\n",
       "</table>\n",
       "</div>"
      ],
      "text/plain": [
       "   age  sex  cp  trestbps  chol  fbs  restecg  thalach  exang  oldpeak  slope  \\\n",
       "0   63    1   1       145   233    1        2      150      0      2.3      3   \n",
       "1   67    1   4       160   286    0        2      108      1      1.5      2   \n",
       "2   67    1   4       120   229    0        2      129      1      2.6      2   \n",
       "3   37    1   3       130   250    0        0      187      0      3.5      3   \n",
       "4   41    0   2       130   204    0        2      172      0      1.4      1   \n",
       "\n",
       "    ca  thal  num  \n",
       "0  0.0   6.0    0  \n",
       "1  3.0   3.0    2  \n",
       "2  2.0   7.0    1  \n",
       "3  0.0   3.0    0  \n",
       "4  0.0   3.0    0  "
      ]
     },
     "execution_count": 4,
     "metadata": {},
     "output_type": "execute_result"
    }
   ],
   "source": [
    "data.head()"
   ]
  },
  {
   "cell_type": "code",
   "execution_count": 5,
   "metadata": {},
   "outputs": [],
   "source": [
    "X = data.drop('num', axis=1)\n",
    "y = data['num']\n",
    "\n",
    "X_train, X_test, y_train, y_test = train_test_split(X, y, test_size=0.2, random_state=42)\n",
    "\n",
    "scaler = StandardScaler()\n",
    "X_train = scaler.fit_transform(X_train)\n",
    "X_test = scaler.transform(X_test)"
   ]
  },
  {
   "cell_type": "code",
   "execution_count": 6,
   "metadata": {},
   "outputs": [
    {
     "name": "stdout",
     "output_type": "stream",
     "text": [
      "Random Forest Accuracy: 0.60\n",
      "SVC Accuracy: 0.65\n"
     ]
    }
   ],
   "source": [
    "rf_model = RandomForestClassifier(random_state=42)\n",
    "rf_model.fit(X_train, y_train)\n",
    "rf_pred = rf_model.predict(X_test)\n",
    "rf_accuracy = accuracy_score(y_test, rf_pred)\n",
    "print(f\"Random Forest Accuracy: {rf_accuracy:.2f}\")\n",
    "\n",
    "svc_model = SVC(random_state=42)\n",
    "svc_model.fit(X_train, y_train)\n",
    "svc_pred = svc_model.predict(X_test)\n",
    "svc_accuracy = accuracy_score(y_test, svc_pred)\n",
    "print(f\"SVC Accuracy: {svc_accuracy:.2f}\")"
   ]
  },
  {
   "cell_type": "code",
   "execution_count": 7,
   "metadata": {},
   "outputs": [
    {
     "name": "stdout",
     "output_type": "stream",
     "text": [
      "Best parameters for Random Forest (GridSearchCV): {'max_depth': None, 'min_samples_split': 3, 'n_estimators': 50}\n",
      "Best accuracy for Random Forest (GridSearchCV): 0.5613475177304965\n",
      "Best parameters for SVC (GridSearchCV): {'C': 0.1, 'gamma': 'scale', 'kernel': 'linear'}\n",
      "Best accuracy for SVC (GridSearchCV): 0.5823581560283688\n"
     ]
    }
   ],
   "source": [
    "rf_params = {\n",
    "    'n_estimators': [50, 100, 200],\n",
    "    'max_depth': [None, 5, 2],\n",
    "    'min_samples_split': [2, 5, 3]\n",
    "}\n",
    "\n",
    "svc_params = {\n",
    "    'C': [0.1, 1, 10],\n",
    "    'kernel': ['linear', 'rbf'],\n",
    "    'gamma': ['scale', 'auto']\n",
    "}\n",
    "\n",
    "rf_grid = GridSearchCV(estimator=rf_model, param_grid=rf_params, scoring='accuracy', cv=None)\n",
    "rf_grid.fit(X_train, y_train)\n",
    "print(\"Best parameters for Random Forest (GridSearchCV):\", rf_grid.best_params_)\n",
    "print(\"Best accuracy for Random Forest (GridSearchCV):\", rf_grid.best_score_)\n",
    "\n",
    "svc_grid = GridSearchCV(estimator=svc_model, param_grid=svc_params, scoring='accuracy', cv=None)\n",
    "svc_grid.fit(X_train, y_train)\n",
    "print(\"Best parameters for SVC (GridSearchCV):\", svc_grid.best_params_)\n",
    "print(\"Best accuracy for SVC (GridSearchCV):\", svc_grid.best_score_)"
   ]
  },
  {
   "cell_type": "code",
   "execution_count": 8,
   "metadata": {},
   "outputs": [
    {
     "name": "stdout",
     "output_type": "stream",
     "text": [
      "Best parameters for Random Forest (RandomizedSearchCV): {'n_estimators': 50, 'min_samples_split': 5, 'max_depth': 5}\n",
      "Best accuracy for Random Forest (RandomizedSearchCV): 0.5611702127659575\n",
      "Best parameters for SVC (RandomizedSearchCV): {'kernel': 'linear', 'gamma': 'scale', 'C': 0.1}\n",
      "Best accuracy for SVC (RandomizedSearchCV): 0.5823581560283688\n"
     ]
    }
   ],
   "source": [
    "rf_random = RandomizedSearchCV(estimator=rf_model, param_distributions=rf_params, n_iter=10, scoring='accuracy', cv=None, random_state=42)\n",
    "rf_random.fit(X_train, y_train)\n",
    "print(\"Best parameters for Random Forest (RandomizedSearchCV):\", rf_random.best_params_)\n",
    "print(\"Best accuracy for Random Forest (RandomizedSearchCV):\", rf_random.best_score_)\n",
    "\n",
    "svc_random = RandomizedSearchCV(estimator=svc_model, param_distributions=svc_params, n_iter=10, scoring='accuracy', cv=None, random_state=42)\n",
    "svc_random.fit(X_train, y_train)\n",
    "print(\"Best parameters for SVC (RandomizedSearchCV):\", svc_random.best_params_)\n",
    "print(\"Best accuracy for SVC (RandomizedSearchCV):\", svc_random.best_score_)"
   ]
  },
  {
   "cell_type": "code",
   "execution_count": 9,
   "metadata": {},
   "outputs": [
    {
     "name": "stdout",
     "output_type": "stream",
     "text": [
      "\n",
      "Comparison of GridSearchCV and RandomizedSearchCV:\n",
      "Random Forest - GridSearchCV: {'max_depth': None, 'min_samples_split': 3, 'n_estimators': 50} Accuracy: 0.5613475177304965\n",
      "Random Forest - RandomizedSearchCV: {'n_estimators': 50, 'min_samples_split': 5, 'max_depth': 5} Accuracy: 0.5611702127659575\n",
      "SVC - GridSearchCV: {'C': 0.1, 'gamma': 'scale', 'kernel': 'linear'} Accuracy: 0.5823581560283688\n",
      "SVC - RandomizedSearchCV: {'kernel': 'linear', 'gamma': 'scale', 'C': 0.1} Accuracy: 0.5823581560283688\n"
     ]
    }
   ],
   "source": [
    "print(\"\\nComparison of GridSearchCV and RandomizedSearchCV:\")\n",
    "print(\"Random Forest - GridSearchCV:\", rf_grid.best_params_, \"Accuracy:\", rf_grid.best_score_)\n",
    "print(\"Random Forest - RandomizedSearchCV:\", rf_random.best_params_, \"Accuracy:\", rf_random.best_score_)\n",
    "print(\"SVC - GridSearchCV:\", svc_grid.best_params_, \"Accuracy:\", svc_grid.best_score_)\n",
    "print(\"SVC - RandomizedSearchCV:\", svc_random.best_params_, \"Accuracy:\", svc_random.best_score_)"
   ]
  }
 ],
 "metadata": {
  "kernelspec": {
   "display_name": "Python 3",
   "language": "python",
   "name": "python3"
  },
  "language_info": {
   "codemirror_mode": {
    "name": "ipython",
    "version": 3
   },
   "file_extension": ".py",
   "mimetype": "text/x-python",
   "name": "python",
   "nbconvert_exporter": "python",
   "pygments_lexer": "ipython3",
   "version": "3.11.6"
  }
 },
 "nbformat": 4,
 "nbformat_minor": 2
}
