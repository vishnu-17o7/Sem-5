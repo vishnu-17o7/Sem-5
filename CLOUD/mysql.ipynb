{
 "cells": [
  {
   "cell_type": "code",
   "execution_count": 6,
   "metadata": {},
   "outputs": [
    {
     "name": "stdout",
     "output_type": "stream",
     "text": [
      "Successfully connected to MySQL database\n",
      "User: PUBLIC, Host: \n",
      "User: root, Host: %\n",
      "User: username, Host: %\n",
      "User: vishnu, Host: 192.168.56.1\n",
      "User: , Host: archlinux\n",
      "User: , Host: localhost\n",
      "User: mariadb.sys, Host: localhost\n",
      "User: mysql, Host: localhost\n",
      "User: root, Host: localhost\n"
     ]
    }
   ],
   "source": [
    "import mysql.connector\n",
    "from mysql.connector import Error\n",
    "\n",
    "try:\n",
    "    connection = mysql.connector.connect(\n",
    "        host='192.168.56.101',\n",
    "        user='root',\n",
    "        password='root',\n",
    "        database='mysql',\n",
    "        charset='utf8mb4',\n",
    "        collation='utf8mb4_general_ci'\n",
    "    )\n",
    "\n",
    "    if connection.is_connected():\n",
    "        print(\"Successfully connected to MySQL database\")\n",
    "\n",
    "    cursor = connection.cursor()\n",
    "    query = \"SELECT User, Host FROM mysql.user\"\n",
    "    cursor.execute(query)\n",
    "\n",
    "    rows = cursor.fetchall()\n",
    "\n",
    "    for row in rows:\n",
    "        print(f\"User: {row[0]}, Host: {row[1]}\")\n",
    "\n",
    "    cursor.close()\n",
    "    connection.close()\n",
    "\n",
    "except Error as e:\n",
    "    print(f\"Error: {e}\")\n",
    "   "
   ]
  },
  {
   "cell_type": "code",
   "execution_count": 3,
   "metadata": {},
   "outputs": [
    {
     "name": "stdout",
     "output_type": "stream",
     "text": [
      "Successfully connected to MySQL database\n",
      "User: mysql.infoschema, Host: localhost\n",
      "User: mysql.session, Host: localhost\n",
      "User: mysql.sys, Host: localhost\n",
      "User: root, Host: localhost\n"
     ]
    }
   ],
   "source": [
    "import mysql.connector\n",
    "from mysql.connector import Error\n",
    "\n",
    "try:\n",
    "    connection = mysql.connector.connect(\n",
    "        host='localhost',\n",
    "        user='root',     \n",
    "        password='root',\n",
    "        database='mysql'\n",
    "    )\n",
    "\n",
    "    if connection.is_connected():\n",
    "        print(\"Successfully connected to MySQL database\")\n",
    "\n",
    "    cursor = connection.cursor()\n",
    "    query = \"SELECT User, Host FROM mysql.user\"\n",
    "    cursor.execute(query)\n",
    "\n",
    "    rows = cursor.fetchall()\n",
    "\n",
    "    for row in rows:\n",
    "        print(f\"User: {row[0]}, Host: {row[1]}\")\n",
    "\n",
    "    cursor.close()\n",
    "    connection.close()\n",
    "\n",
    "except Error as e:\n",
    "    print(f\"Error: {e}\")\n",
    "   "
   ]
  }
 ],
 "metadata": {
  "kernelspec": {
   "display_name": "Python 3",
   "language": "python",
   "name": "python3"
  },
  "language_info": {
   "codemirror_mode": {
    "name": "ipython",
    "version": 3
   },
   "file_extension": ".py",
   "mimetype": "text/x-python",
   "name": "python",
   "nbconvert_exporter": "python",
   "pygments_lexer": "ipython3",
   "version": "3.11.6"
  }
 },
 "nbformat": 4,
 "nbformat_minor": 2
}
